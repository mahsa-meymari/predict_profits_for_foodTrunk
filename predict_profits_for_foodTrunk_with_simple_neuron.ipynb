{
  "nbformat": 4,
  "nbformat_minor": 0,
  "metadata": {
    "colab": {
      "name": "predict_profits_for_foodTrunk_with_simple_neuron.ipynb",
      "provenance": [],
      "collapsed_sections": [],
      "toc_visible": true
    },
    "kernelspec": {
      "name": "python3",
      "display_name": "Python 3"
    }
  },
  "cells": [
    {
      "cell_type": "code",
      "metadata": {
        "colab_type": "code",
        "id": "qlV68YifeCaO",
        "colab": {}
      },
      "source": [
        "import numpy as np\n",
        "import matplotlib.pyplot as plt\n"
      ],
      "execution_count": 0,
      "outputs": []
    },
    {
      "cell_type": "code",
      "metadata": {
        "id": "p4LYq0Z8Ypsw",
        "colab_type": "code",
        "outputId": "bfe2f97d-754f-48c1-c5ee-0b6b5029cc06",
        "colab": {
          "base_uri": "https://localhost:8080/",
          "height": 35
        }
      },
      "source": [
        "f = open(\"ex1data1.txt\", \"r\")\n",
        "data = [(line.split(\",\")[0],line.split(\",\")[1][:-1]) for line in f]\n",
        "f.close()\n",
        "x = [float(d[0]) for d in data]\n",
        "Y = [float(d[1]) for d in data]\n",
        "m = len(X)\n",
        "print(m)"
      ],
      "execution_count": 132,
      "outputs": [
        {
          "output_type": "stream",
          "text": [
            "97\n"
          ],
          "name": "stdout"
        }
      ]
    },
    {
      "cell_type": "code",
      "metadata": {
        "id": "h5JpfdkRdeLb",
        "colab_type": "code",
        "outputId": "aa30aa7e-8802-4d16-b72e-419c5b2c0904",
        "colab": {
          "base_uri": "https://localhost:8080/",
          "height": 280
        }
      },
      "source": [
        "fig = plt.figure()\n",
        "ax = fig.add_subplot(111)\n",
        "ax.scatter(x,Y,marker = \"x\", c = \"r\")\n",
        "plt.xlabel(\"Population of City in 10,000s\")\n",
        "plt.ylabel(\"Profit in $10,000s\")\n",
        "plt.show()"
      ],
      "execution_count": 133,
      "outputs": [
        {
          "output_type": "display_data",
          "data": {
            "image/png": "[encoded data removed]",
            "text/plain": [
              "<Figure size 432x288 with 1 Axes>"
            ]
          },
          "metadata": {
            "tags": []
          }
        }
      ]
    },
    {
      "cell_type": "code",
      "metadata": {
        "id": "oTIlyEf2mMcq",
        "colab_type": "code",
        "colab": {}
      },
      "source": [
        "X = np.concatenate((np.ones((m,1)), np.expand_dims(x, axis=1) ) ,axis = 1 ) # Add a column of ones to x for bias\n",
        "theta = np.zeros((2, 1)); # initialize fitting parameters\n",
        "iterations = 1500 \n",
        "alpha = 0.01 #learning rate"
      ],
      "execution_count": 0,
      "outputs": []
    },
    {
      "cell_type": "code",
      "metadata": {
        "id": "J_ss_Jcyl11T",
        "colab_type": "code",
        "colab": {}
      },
      "source": [
        "def computeCostMSE(X,Y,theta):\n",
        "  J = 0\n",
        "  m = len(Y)\n",
        "  H = np.transpose(np.matmul(X,theta))\n",
        "  J = ( (np.sum(np.power(Y-H , 2 ))) ) / (2 * m)\n",
        "  return J"
      ],
      "execution_count": 0,
      "outputs": []
    },
    {
      "cell_type": "code",
      "metadata": {
        "id": "TAYYZuatlmW9",
        "colab_type": "code",
        "outputId": "9145c8d4-62a0-471e-c6fc-432b4bda2fbe",
        "colab": {
          "base_uri": "https://localhost:8080/",
          "height": 35
        }
      },
      "source": [
        "computeCostMSE(X,Y,theta)"
      ],
      "execution_count": 136,
      "outputs": [
        {
          "output_type": "execute_result",
          "data": {
            "text/plain": [
              "32.072733877455676"
            ]
          },
          "metadata": {
            "tags": []
          },
          "execution_count": 136
        }
      ]
    },
    {
      "cell_type": "code",
      "metadata": {
        "id": "e6LL1P43yh-9",
        "colab_type": "code",
        "colab": {}
      },
      "source": [
        "def gradientDescent(X,Y,theta,alph,num_iters):\n",
        "  J_history = np.zeros(num_iters)\n",
        "  m = len(Y)\n",
        "  for i in range(num_iters):\n",
        "    H = np.transpose(np.matmul(X,theta))\n",
        "    theta = theta - (alpha / m)  *   np.matmul( (H-Y) , X) . T\n",
        "  return theta,J_history"
      ],
      "execution_count": 0,
      "outputs": []
    },
    {
      "cell_type": "code",
      "metadata": {
        "id": "DuZNcdxEALUC",
        "colab_type": "code",
        "colab": {
          "base_uri": "https://localhost:8080/",
          "height": 52
        },
        "outputId": "1a0a4ad5-225a-4daa-980b-d8e1afdff0bc"
      },
      "source": [
        "theta,J_history = gradientDescent(X,Y,theta,alpha,iterations)\n",
        "print(theta)"
      ],
      "execution_count": 138,
      "outputs": [
        {
          "output_type": "stream",
          "text": [
            "[[-3.63029144]\n",
            " [ 1.16636235]]\n"
          ],
          "name": "stdout"
        }
      ]
    },
    {
      "cell_type": "code",
      "metadata": {
        "id": "ZqtB7e7IH9B7",
        "colab_type": "code",
        "colab": {
          "base_uri": "https://localhost:8080/",
          "height": 280
        },
        "outputId": "4ed8d12b-7e97-4c0f-940b-7101fb8338c5"
      },
      "source": [
        "fig = plt.figure()\n",
        "ax = fig.add_subplot(111)\n",
        "ax.scatter(x,Y,marker = \"x\", c = \"r\")\n",
        "plt.xlabel(\"Population of City in 10,000s\")\n",
        "plt.ylabel(\"Profit in $10,000s\")\n",
        "ax.plot(x,np.matmul(X, theta))\n",
        "plt.show()"
      ],
      "execution_count": 139,
      "outputs": [
        {
          "output_type": "display_data",
          "data": {
            "image/png": "[encoded data removed]",
            "text/plain": [
              "<Figure size 432x288 with 1 Axes>"
            ]
          },
          "metadata": {
            "tags": []
          }
        }
      ]
    }
  ]
}